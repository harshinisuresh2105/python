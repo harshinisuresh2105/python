{
  "nbformat": 4,
  "nbformat_minor": 0,
  "metadata": {
    "colab": {
      "provenance": []
    },
    "kernelspec": {
      "name": "python3",
      "display_name": "Python 3"
    },
    "language_info": {
      "name": "python"
    }
  },
  "cells": [
    {
      "cell_type": "code",
      "execution_count": 3,
      "metadata": {
        "colab": {
          "base_uri": "https://localhost:8080/"
        },
        "id": "cQeTawBEhlqz",
        "outputId": "f1232f56-4cfe-4ffd-9e7f-905ee88afcf7"
      },
      "outputs": [
        {
          "output_type": "stream",
          "name": "stdout",
          "text": [
            "{'name': 'Harshini', 'age': 20, 'marks': 89}\n"
          ]
        }
      ],
      "source": [
        "#creating a dictionary\n",
        "\n",
        "student={\n",
        "    \"name\":\"Harshini\",\n",
        "    \"age\":20,\n",
        "    \"marks\":89\n",
        "}\n",
        "print(student)"
      ]
    },
    {
      "cell_type": "code",
      "source": [
        "#Accesing the element\n",
        "\n",
        "\n",
        "student={\n",
        "    \"name\":\"Harshini\",\n",
        "    \"age\":20,\n",
        "    \"marks\":89\n",
        "}\n",
        "print(student[\"name\"])\n",
        "print(student[\"marks\"])"
      ],
      "metadata": {
        "colab": {
          "base_uri": "https://localhost:8080/"
        },
        "id": "TCWSKWH_qUaF",
        "outputId": "26a0bebd-6adc-4bbd-a0ea-a366a5accdde"
      },
      "execution_count": 8,
      "outputs": [
        {
          "output_type": "stream",
          "name": "stdout",
          "text": [
            "Harshini\n",
            "89\n"
          ]
        }
      ]
    },
    {
      "cell_type": "code",
      "source": [
        "#Adding and updating\n",
        "\n",
        "student={\n",
        "    \"name\":\"Harshini\",\n",
        "    \"age\":20,\n",
        "    \"marks\":89\n",
        "}\n",
        "student[\"grade\"]=\"A\"   #adding\n",
        "student[\"mark\"]=99     #updating existing values\n",
        "print(student)"
      ],
      "metadata": {
        "colab": {
          "base_uri": "https://localhost:8080/"
        },
        "id": "EvbXTvJJq3GH",
        "outputId": "c18128e3-163b-4a93-e762-a79935b3bff2"
      },
      "execution_count": 13,
      "outputs": [
        {
          "output_type": "stream",
          "name": "stdout",
          "text": [
            "{'name': 'Harshini', 'age': 20, 'marks': 89, 'grade': 'A', 'mark': 99}\n"
          ]
        }
      ]
    },
    {
      "cell_type": "code",
      "source": [
        "#removing\n",
        "\n",
        "student={\n",
        "    \"name\":\"Harshini\",\n",
        "    \"age\":20,\n",
        "    \"marks\":89\n",
        "}\n",
        "del student[\"age\"]\n",
        "print(student)\n",
        "\n"
      ],
      "metadata": {
        "colab": {
          "base_uri": "https://localhost:8080/"
        },
        "id": "t-wTEEXerbdE",
        "outputId": "fc572940-ee46-4acd-be08-a359881afbc7"
      },
      "execution_count": 14,
      "outputs": [
        {
          "output_type": "stream",
          "name": "stdout",
          "text": [
            "{'name': 'Harshini', 'marks': 89}\n"
          ]
        }
      ]
    },
    {
      "cell_type": "code",
      "source": [
        "\n",
        "student={\n",
        "    \"name\":\"Harshini\",\n",
        "    \"age\":20,\n",
        "    \"marks\":89\n",
        "}\n",
        "student.pop(\"age\")\n",
        "print(student)"
      ],
      "metadata": {
        "colab": {
          "base_uri": "https://localhost:8080/"
        },
        "id": "0oh43eeIrxPz",
        "outputId": "aeb9ab09-b914-4570-d8c9-08af7e8d5438"
      },
      "execution_count": 16,
      "outputs": [
        {
          "output_type": "stream",
          "name": "stdout",
          "text": [
            "{'name': 'Harshini', 'marks': 89}\n"
          ]
        }
      ]
    },
    {
      "cell_type": "code",
      "source": [
        "student={\n",
        "    \"name\":\"Harshini\",\n",
        "    \"age\":20,\n",
        "    \"marks\":89\n",
        "}\n",
        "student.clear()\n",
        "print(student)"
      ],
      "metadata": {
        "colab": {
          "base_uri": "https://localhost:8080/"
        },
        "id": "vWD9Zs-lrxJi",
        "outputId": "b69d6e29-4e48-46e9-b9a1-0f640ae913d4"
      },
      "execution_count": 18,
      "outputs": [
        {
          "output_type": "stream",
          "name": "stdout",
          "text": [
            "{}\n"
          ]
        }
      ]
    },
    {
      "cell_type": "code",
      "source": [
        "student={\n",
        "    \"name\":\"Harshini\",\n",
        "    \"age\":20,\n",
        "    \"marks\":89\n",
        "}\n",
        "for key, value in student.items():\n",
        "    print(key, \":\", value)"
      ],
      "metadata": {
        "colab": {
          "base_uri": "https://localhost:8080/"
        },
        "id": "ZaPtzeB8sLgW",
        "outputId": "c3c1ed13-293c-47c6-8381-223d04103098"
      },
      "execution_count": 19,
      "outputs": [
        {
          "output_type": "stream",
          "name": "stdout",
          "text": [
            "name : Harshini\n",
            "age : 20\n",
            "marks : 89\n"
          ]
        }
      ]
    }
  ]
}