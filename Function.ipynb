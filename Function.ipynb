{
  "nbformat": 4,
  "nbformat_minor": 0,
  "metadata": {
    "colab": {
      "provenance": []
    },
    "kernelspec": {
      "name": "python3",
      "display_name": "Python 3"
    },
    "language_info": {
      "name": "python"
    }
  },
  "cells": [
    {
      "cell_type": "code",
      "execution_count": 1,
      "metadata": {
        "colab": {
          "base_uri": "https://localhost:8080/"
        },
        "id": "z6uhsVf2TG9v",
        "outputId": "eb06d586-2972-4c3d-e0eb-7c9ade498fe5"
      },
      "outputs": [
        {
          "output_type": "stream",
          "name": "stdout",
          "text": [
            "hey guys\n"
          ]
        }
      ],
      "source": [
        "#with parameters without return type\n",
        "\n",
        "def greet():\n",
        "  print(\"hey guys\")\n",
        "greet()"
      ]
    },
    {
      "cell_type": "code",
      "source": [
        "#with parameterS and return type\n",
        "\n",
        "def add(a,b):\n",
        "  return a+b\n",
        "\n",
        "print (add(5,10))\n"
      ],
      "metadata": {
        "colab": {
          "base_uri": "https://localhost:8080/"
        },
        "id": "Qkn5mRsnVhUy",
        "outputId": "e5302448-0279-4231-a3ae-55fe3537ce1d"
      },
      "execution_count": 7,
      "outputs": [
        {
          "output_type": "stream",
          "name": "stdout",
          "text": [
            "15\n"
          ]
        }
      ]
    },
    {
      "cell_type": "code",
      "source": [
        "# *Artibrary arguments\n",
        "\n",
        "def add_numbers (*args):\n",
        "  print (args)\n",
        "  return sum (args)\n",
        "\n",
        "print (add_numbers(1,2,3,4,5))\n",
        ""
      ],
      "metadata": {
        "colab": {
          "base_uri": "https://localhost:8080/"
        },
        "id": "nIIVduDjWjzT",
        "outputId": "869fe304-3995-4e05-9231-c08a03c44cda"
      },
      "execution_count": 15,
      "outputs": [
        {
          "output_type": "stream",
          "name": "stdout",
          "text": [
            "(1, 2, 3, 4, 5)\n",
            "15\n"
          ]
        }
      ]
    },
    {
      "cell_type": "code",
      "source": [
        "#** kwargs\n",
        "\n",
        "def display (**fruits):\n",
        "  print(fruits)\n",
        "  print(fruits [\"f1\"])\n",
        "  print(fruits [\"f2\"])\n",
        "  print(fruits [\"f3\"])\n",
        "  print(fruits [\"f4\"])\n",
        "display(f1=\"Apple\", f2=\"Banana\", f3=\"Grapes\",f4=\"Watermelon\")"
      ],
      "metadata": {
        "colab": {
          "base_uri": "https://localhost:8080/"
        },
        "id": "0hlWEQDiYsh0",
        "outputId": "2aff1690-8a7e-4d1e-b010-49b1f82bf241"
      },
      "execution_count": 17,
      "outputs": [
        {
          "output_type": "stream",
          "name": "stdout",
          "text": [
            "{'f1': 'Apple', 'f2': 'Banana', 'f3': 'Grapes', 'f4': 'Watermelon'}\n",
            "Apple\n",
            "Banana\n",
            "Grapes\n",
            "Watermelon\n"
          ]
        }
      ]
    }
  ]
}