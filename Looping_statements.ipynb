{
  "nbformat": 4,
  "nbformat_minor": 0,
  "metadata": {
    "colab": {
      "provenance": []
    },
    "kernelspec": {
      "name": "python3",
      "display_name": "Python 3"
    },
    "language_info": {
      "name": "python"
    }
  },
  "cells": [
    {
      "cell_type": "code",
      "execution_count": 3,
      "metadata": {
        "colab": {
          "base_uri": "https://localhost:8080/"
        },
        "id": "TXvmLpnGmjhr",
        "outputId": "7dee3f80-e63a-48b7-e246-8318cb065be9"
      },
      "outputs": [
        {
          "output_type": "stream",
          "name": "stdout",
          "text": [
            "1\n",
            "2\n",
            "3\n",
            "4\n",
            "5\n"
          ]
        }
      ],
      "source": [
        "#while loop\n",
        "\n",
        "i=1\n",
        "while(i<=5):\n",
        " print(i)\n",
        " i+=1"
      ]
    },
    {
      "cell_type": "code",
      "source": [
        "num=2\n",
        "while(num<=10):\n",
        "  print(num)\n",
        "  num+=2\n",
        ""
      ],
      "metadata": {
        "colab": {
          "base_uri": "https://localhost:8080/"
        },
        "id": "aoZ7KPk-vT2y",
        "outputId": "e699f333-d0a9-441c-c40b-c0472ac07fc3"
      },
      "execution_count": 7,
      "outputs": [
        {
          "output_type": "stream",
          "name": "stdout",
          "text": [
            "2\n",
            "4\n",
            "6\n",
            "8\n",
            "10\n"
          ]
        }
      ]
    },
    {
      "cell_type": "code",
      "source": [
        "#for loop\n",
        "\n",
        "for i in range(1,6):\n",
        " print(i)"
      ],
      "metadata": {
        "colab": {
          "base_uri": "https://localhost:8080/"
        },
        "id": "7s9Pdym4v3nh",
        "outputId": "9a999408-8f5d-422d-87c2-898ad15c48ea"
      },
      "execution_count": 10,
      "outputs": [
        {
          "output_type": "stream",
          "name": "stdout",
          "text": [
            "1\n",
            "2\n",
            "3\n",
            "4\n",
            "5\n"
          ]
        }
      ]
    },
    {
      "cell_type": "code",
      "source": [
        "#for loop using list\n",
        "\n",
        "fruits=[\"Apple, Orange, Banana, Mango\"]\n",
        "\n",
        "for f in fruits:\n",
        "   print(\"I like\",f)"
      ],
      "metadata": {
        "colab": {
          "base_uri": "https://localhost:8080/"
        },
        "id": "EmG4U4eUwRZg",
        "outputId": "a3e8f217-0973-421b-b5bd-7e9d8fae6b5a"
      },
      "execution_count": 15,
      "outputs": [
        {
          "output_type": "stream",
          "name": "stdout",
          "text": [
            "I like Apple, Orange, Banana, Mango\n"
          ]
        }
      ]
    },
    {
      "cell_type": "code",
      "source": [
        "fruits = [\"apple\", \"banana\", \"mango\"]\n",
        "\n",
        "for f in fruits:\n",
        "    print(\"I like\", f)\n"
      ],
      "metadata": {
        "colab": {
          "base_uri": "https://localhost:8080/"
        },
        "id": "KhZaFL6uxhWK",
        "outputId": "9b477e57-2eae-4e45-d7ef-3f1ac569a860"
      },
      "execution_count": 16,
      "outputs": [
        {
          "output_type": "stream",
          "name": "stdout",
          "text": [
            "I like apple\n",
            "I like banana\n",
            "I like mango\n"
          ]
        }
      ]
    },
    {
      "cell_type": "code",
      "source": [
        "#nested loops\n",
        "\n",
        "for i in range(1,4):\n",
        "  for j in range(1,3):\n",
        "   print(i,j)"
      ],
      "metadata": {
        "colab": {
          "base_uri": "https://localhost:8080/"
        },
        "id": "IzhfR9qgxoDt",
        "outputId": "75d41e63-52f6-416f-976e-a55750fc2ee4"
      },
      "execution_count": 19,
      "outputs": [
        {
          "output_type": "stream",
          "name": "stdout",
          "text": [
            "1 1\n",
            "1 2\n",
            "2 1\n",
            "2 2\n",
            "3 1\n",
            "3 2\n"
          ]
        }
      ]
    }
  ]
}