{
  "nbformat": 4,
  "nbformat_minor": 0,
  "metadata": {
    "colab": {
      "provenance": []
    },
    "kernelspec": {
      "name": "python3",
      "display_name": "Python 3"
    },
    "language_info": {
      "name": "python"
    }
  },
  "cells": [
    {
      "cell_type": "code",
      "execution_count": 5,
      "metadata": {
        "colab": {
          "base_uri": "https://localhost:8080/"
        },
        "id": "xFhorckhdkZW",
        "outputId": "dd03eeb4-0563-4832-c483-58fd77f6bb41"
      },
      "outputs": [
        {
          "output_type": "stream",
          "name": "stdout",
          "text": [
            "Enter the number7\n",
            "seven\n"
          ]
        }
      ],
      "source": [
        "#matching the number\n",
        "\n",
        "num=int(input(\"Enter the number\"))\n",
        "match num:\n",
        "  case 1: print(\"one\")\n",
        "  case 2: print(\"two\")\n",
        "  case 3: print(\"thre\")\n",
        "  case 4: print(\"four\")\n",
        "  case 5: print(\"five\")\n",
        "  case 6: print(\"six\")\n",
        "  case 7: print(\"seven\")\n",
        "  case 8: print(\"eight\")\n",
        "  case 9: print(\"nine\")\n",
        "  case _: print(\"Invalid input\")"
      ]
    },
    {
      "cell_type": "code",
      "source": [
        "#matching day using string\n",
        "\n",
        "day=input(\"Enter the day\")\n",
        "match day:\n",
        "  case\"monday\": print(\"start of the week\")\n",
        "  case\"friday\": print(\"It's almost weekend\")\n",
        "  case\"sunday\": print(\"Relax day\")\n",
        "  case _: print (\"Normal day\")"
      ],
      "metadata": {
        "colab": {
          "base_uri": "https://localhost:8080/"
        },
        "id": "6FEM1NPvhlxe",
        "outputId": "259d995c-4deb-41f4-a9aa-e480a2ad240b"
      },
      "execution_count": 7,
      "outputs": [
        {
          "output_type": "stream",
          "name": "stdout",
          "text": [
            "Enter the dayfriday\n",
            "It's almost weekend\n"
          ]
        }
      ]
    },
    {
      "cell_type": "code",
      "source": [
        "#matching with lists\n",
        "\n",
        "num = [2,3,4]\n",
        "match num:\n",
        "    case [1,2,3]:\n",
        "      print(\"matched: list contains:1,2,3\")\n",
        "    case [2,3]:\n",
        "      print(\"matched: list contains2,3\")\n",
        "    case _:print (\"No match found\")"
      ],
      "metadata": {
        "colab": {
          "base_uri": "https://localhost:8080/"
        },
        "id": "L6sJu35Xf79p",
        "outputId": "e913678b-6cfe-432b-a59c-70064ddef4c7"
      },
      "execution_count": 16,
      "outputs": [
        {
          "output_type": "stream",
          "name": "stdout",
          "text": [
            "No match found\n"
          ]
        }
      ]
    },
    {
      "cell_type": "code",
      "source": [],
      "metadata": {
        "id": "owyOxW2dkl6K"
      },
      "execution_count": null,
      "outputs": []
    }
  ]
}