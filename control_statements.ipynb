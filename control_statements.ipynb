{
  "nbformat": 4,
  "nbformat_minor": 0,
  "metadata": {
    "colab": {
      "provenance": []
    },
    "kernelspec": {
      "name": "python3",
      "display_name": "Python 3"
    },
    "language_info": {
      "name": "python"
    }
  },
  "cells": [
    {
      "cell_type": "code",
      "execution_count": null,
      "metadata": {
        "id": "-_xA0eVkXHe8",
        "colab": {
          "base_uri": "https://localhost:8080/"
        },
        "outputId": "952aae2f-5202-4070-a843-e7ba92fdc126"
      },
      "outputs": [
        {
          "output_type": "stream",
          "name": "stdout",
          "text": [
            "Enter the age465\n",
            "you are eligible\n"
          ]
        }
      ],
      "source": [
        "#control statements\n",
        "\n",
        "#if..else\n",
        "\n",
        "age=int(input('Enter the age'))\n",
        "if age>=18:\n",
        "  print('you are eligible')\n",
        "else:\n",
        "  print('you are not eligible')"
      ]
    },
    {
      "cell_type": "code",
      "source": [
        "#if...else\n",
        "\n",
        "temperature=int(input('Enter the temperature'))\n",
        "if temperature>=25:\n",
        "  print('it is hot')\n",
        "else:\n",
        "  print('it is cold')"
      ],
      "metadata": {
        "id": "X2ok04-NaRVI",
        "colab": {
          "base_uri": "https://localhost:8080/"
        },
        "outputId": "c761a054-aad3-4ec2-fd61-db83c3313023"
      },
      "execution_count": null,
      "outputs": [
        {
          "output_type": "stream",
          "name": "stdout",
          "text": [
            "Enter the temperature24\n",
            "it is cold\n"
          ]
        }
      ]
    },
    {
      "cell_type": "code",
      "source": [
        "#if...elif...else\n",
        "\n",
        "Marks=int(input('Enter the mark'))\n",
        "if Marks>=90:\n",
        "    print(\"GRADE A\")\n",
        "elif Marks>=70:\n",
        "      print(\"GRADE B\")\n",
        "elif Marks>=50:\n",
        "        print(\"GRADE C\")\n",
        "elif Marks>=35:\n",
        "   print(\"GRADE D\")\n",
        "else:\n",
        "  print(\"FAIL\")"
      ],
      "metadata": {
        "id": "QZ6ZxOkWaRon",
        "colab": {
          "base_uri": "https://localhost:8080/"
        },
        "outputId": "8f9860f8-25be-4aba-d93f-71e115764cbc"
      },
      "execution_count": 12,
      "outputs": [
        {
          "output_type": "stream",
          "name": "stdout",
          "text": [
            "Enter the mark26\n",
            "FAIL\n"
          ]
        }
      ]
    },
    {
      "cell_type": "code",
      "source": [
        "#Nested if statements\n",
        "\n",
        "marks= int(input(\"Enter you mark\"))\n",
        "attendance= int(input(\"Enter your attendance\"))\n",
        "\n",
        "if marks>=40:\n",
        " if attendance>=75:\n",
        "            print(\"You are eligible\")\n",
        " else:\n",
        "            print(\"you are not eligible-marks below 40\")\n",
        "else:\n",
        "    print(\"you are not eligible-attendance below 75\")"
      ],
      "metadata": {
        "colab": {
          "base_uri": "https://localhost:8080/"
        },
        "id": "frg6NdIVi7bm",
        "outputId": "b2c359ce-122c-4100-e224-22815f560566"
      },
      "execution_count": 31,
      "outputs": [
        {
          "output_type": "stream",
          "name": "stdout",
          "text": [
            "Enter you mark39\n",
            "Enter your attendance85\n",
            "you are not eligible-attendance below 75\n"
          ]
        }
      ]
    }
  ]
}