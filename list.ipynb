{
  "nbformat": 4,
  "nbformat_minor": 0,
  "metadata": {
    "colab": {
      "provenance": []
    },
    "kernelspec": {
      "name": "python3",
      "display_name": "Python 3"
    },
    "language_info": {
      "name": "python"
    }
  },
  "cells": [
    {
      "cell_type": "code",
      "execution_count": 1,
      "metadata": {
        "colab": {
          "base_uri": "https://localhost:8080/"
        },
        "id": "divuTyQwdVq7",
        "outputId": "1d8595e3-0a35-484a-a8ad-9c676d880822"
      },
      "outputs": [
        {
          "output_type": "stream",
          "name": "stdout",
          "text": [
            "['apple', 'banana', 'cherry']\n"
          ]
        }
      ],
      "source": [
        " #listin python\n",
        "\n",
        " fruits=[\"apple\",\"banana\",\"cherry\"]\n",
        " print(fruits)"
      ]
    },
    {
      "cell_type": "code",
      "source": [
        "check=[\"Python\", \"Java\", \"JavaScript\", \"React JS\", \"Redux\", \"DA\"]\n",
        "\n",
        "print(check)\n",
        "print(check.pop(0))\n",
        "print(check)"
      ],
      "metadata": {
        "id": "TO1KyWl01bhx",
        "colab": {
          "base_uri": "https://localhost:8080/"
        },
        "outputId": "a33b01f5-d7c3-4db6-ea46-a25f72ddabfd"
      },
      "execution_count": 2,
      "outputs": [
        {
          "output_type": "stream",
          "name": "stdout",
          "text": [
            "['Python', 'Java', 'JavaScript', 'React JS', 'Redux', 'DA']\n",
            "Python\n",
            "['Java', 'JavaScript', 'React JS', 'Redux', 'DA']\n"
          ]
        }
      ]
    },
    {
      "cell_type": "code",
      "source": [
        "check=[\"Python\", \"Java\", \"JavaScript\", \"React JS\", \"Redux\", \"DA\"]\n",
        "\n",
        "print(check)\n",
        "del check[0]\n",
        "print(check)"
      ],
      "metadata": {
        "colab": {
          "base_uri": "https://localhost:8080/"
        },
        "id": "RKwi3wxcGM8g",
        "outputId": "62e139d4-5e35-424e-c1dd-caf9bc9f64f3"
      },
      "execution_count": 3,
      "outputs": [
        {
          "output_type": "stream",
          "name": "stdout",
          "text": [
            "['Python', 'Java', 'JavaScript', 'React JS', 'Redux', 'DA']\n",
            "['Java', 'JavaScript', 'React JS', 'Redux', 'DA']\n"
          ]
        }
      ]
    },
    {
      "cell_type": "code",
      "source": [
        "#listing elements\n",
        "\n",
        "colors=[\"red\",\"blue\",\"yellow\",\"green\",\"pink\"]\n",
        "\n",
        "print(colors)\n",
        "print(type(check))"
      ],
      "metadata": {
        "colab": {
          "base_uri": "https://localhost:8080/"
        },
        "id": "KLPwUzDkH39b",
        "outputId": "8fa22b6d-c323-4f78-c565-449dec0ae39c"
      },
      "execution_count": 6,
      "outputs": [
        {
          "output_type": "stream",
          "name": "stdout",
          "text": [
            "['red', 'blue', 'yellow', 'green', 'pink']\n",
            "<class 'list'>\n"
          ]
        }
      ]
    },
    {
      "cell_type": "code",
      "source": [
        "#Adding list to the items\n",
        "#append()\n",
        "\n",
        "colors=[\"red\",\"blue\",\"yellow\",\"green\",\"pink\"]\n",
        "colors.append(\"orange\")\n",
        "print(colors)"
      ],
      "metadata": {
        "colab": {
          "base_uri": "https://localhost:8080/"
        },
        "id": "EET_Ha9HKa-S",
        "outputId": "2d7f9360-d8e9-44f2-bc9c-7e75a0a8ac67"
      },
      "execution_count": 10,
      "outputs": [
        {
          "output_type": "stream",
          "name": "stdout",
          "text": [
            "['red', 'blue', 'yellow', 'green', 'pink', 'orange']\n"
          ]
        }
      ]
    },
    {
      "cell_type": "code",
      "source": [
        "#inserting elements to the list(using index)\n",
        "\n",
        "colors=[\"red\",\"blue\",\"yellow\",\"green\",\"pink\"]\n",
        "colors.insert(3,\"orange\")\n",
        "print(colors)\n"
      ],
      "metadata": {
        "colab": {
          "base_uri": "https://localhost:8080/"
        },
        "id": "Kv1KWAXJMIXw",
        "outputId": "65c42d83-e3cc-4114-8167-18565cbb21d4"
      },
      "execution_count": 11,
      "outputs": [
        {
          "output_type": "stream",
          "name": "stdout",
          "text": [
            "['red', 'blue', 'yellow', 'orange', 'green', 'pink']\n"
          ]
        }
      ]
    },
    {
      "cell_type": "code",
      "source": [
        "#extend elements to the list\n",
        "\n",
        "colors=[\"red\",\"blue\",\"yellow\",\"green\",\"pink\"]\n",
        "colors.extend([\"orange\",\"black\",\"purple\"])\n",
        "print(colors)"
      ],
      "metadata": {
        "colab": {
          "base_uri": "https://localhost:8080/"
        },
        "id": "xuZXisRNM9wT",
        "outputId": "a7e0fc23-2d31-4b1e-b47a-d9f6f6cfe536"
      },
      "execution_count": 12,
      "outputs": [
        {
          "output_type": "stream",
          "name": "stdout",
          "text": [
            "['red', 'blue', 'yellow', 'green', 'pink', 'orange', 'black', 'purple']\n"
          ]
        }
      ]
    },
    {
      "cell_type": "code",
      "source": [
        "#extending elemens using two lists\n",
        "\n",
        "\n",
        "L1=[\"red\",\"blue\",\"yellow\",\"green\",\"pink\"]\n",
        "L2=[\"Monday\",\"Tuesday\",\"Wednesday\",\"Thursday\",\"Friday\"]\n",
        "L1.extend(L2)\n",
        "print(L1)"
      ],
      "metadata": {
        "colab": {
          "base_uri": "https://localhost:8080/"
        },
        "id": "2gu8fNsnNWlU",
        "outputId": "f97821bb-8657-4f40-a70c-ddfe42e65921"
      },
      "execution_count": 14,
      "outputs": [
        {
          "output_type": "stream",
          "name": "stdout",
          "text": [
            "['red', 'blue', 'yellow', 'green', 'pink', 'Monday', 'Tuesday', 'Wednesday', 'Thursday', 'Friday']\n"
          ]
        }
      ]
    },
    {
      "cell_type": "code",
      "source": [
        "#extending elements using \"+\" operetor\n",
        "\n",
        "L1=[\"red\",\"blue\",\"yellow\",\"green\",\"pink\"]\n",
        "L2=[\"Monday\",\"Tuesday\",\"Wednesday\",\"Thursday\",\"Friday\"]\n",
        "\n",
        "L3=L1+L2\n",
        "print(L3)"
      ],
      "metadata": {
        "colab": {
          "base_uri": "https://localhost:8080/"
        },
        "id": "B2-S4Qo2No16",
        "outputId": "2729b435-4edc-4c07-d8df-f74f53a71e20"
      },
      "execution_count": 15,
      "outputs": [
        {
          "output_type": "stream",
          "name": "stdout",
          "text": [
            "['red', 'blue', 'yellow', 'green', 'pink', 'Monday', 'Tuesday', 'Wednesday', 'Thursday', 'Friday']\n"
          ]
        }
      ]
    },
    {
      "cell_type": "code",
      "source": [
        "#removing elements from list\n",
        "\n",
        "colors=[\"red\",\"blue\",\"yellow\",\"green\",\"pink\"]\n",
        "colors.remove(\"green\")\n",
        "print(colors)\n"
      ],
      "metadata": {
        "colab": {
          "base_uri": "https://localhost:8080/"
        },
        "id": "9uKEnK7aSQ7Q",
        "outputId": "716d521a-679f-4eb8-908a-d7d793ff5c10"
      },
      "execution_count": 16,
      "outputs": [
        {
          "output_type": "stream",
          "name": "stdout",
          "text": [
            "['red', 'blue', 'yellow', 'pink']\n"
          ]
        }
      ]
    },
    {
      "cell_type": "code",
      "source": [
        "#deleting elements from list\n",
        "\n",
        "colors = [\"red\", \"blue\", \"green\", \"yellow\"]\n",
        "\n",
        "del colors[1]\n",
        "print(colors)"
      ],
      "metadata": {
        "colab": {
          "base_uri": "https://localhost:8080/"
        },
        "id": "yQUNQyLorCSO",
        "outputId": "3f2583cf-7029-4562-f58d-ba43351264bc"
      },
      "execution_count": 1,
      "outputs": [
        {
          "output_type": "stream",
          "name": "stdout",
          "text": [
            "['red', 'green', 'yellow']\n"
          ]
        }
      ]
    }
  ]
}