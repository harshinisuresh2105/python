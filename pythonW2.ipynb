{
  "nbformat": 4,
  "nbformat_minor": 0,
  "metadata": {
    "colab": {
      "provenance": []
    },
    "kernelspec": {
      "name": "python3",
      "display_name": "Python 3"
    },
    "language_info": {
      "name": "python"
    }
  },
  "cells": [
    {
      "cell_type": "code",
      "execution_count": 5,
      "metadata": {
        "colab": {
          "base_uri": "https://localhost:8080/"
        },
        "id": "A_3wwkxfAvYW",
        "outputId": "f7540000-a402-4507-f0a7-8c0c7282d1ce"
      },
      "outputs": [
        {
          "output_type": "stream",
          "name": "stdout",
          "text": [
            "Negative number\n"
          ]
        }
      ],
      "source": [
        "#positive or negative number\n",
        "\n",
        "num=-5\n",
        "if num>=0:\n",
        " print(\"positive number\")\n",
        "else:\n",
        "  print(\"Negative number\")"
      ]
    },
    {
      "cell_type": "code",
      "source": [
        "#Even or odd number\n",
        "\n",
        "num=7\n",
        "if num%2==0:\n",
        "  print(\"Even\")\n",
        "else:\n",
        "  print(\"odd\")"
      ],
      "metadata": {
        "colab": {
          "base_uri": "https://localhost:8080/"
        },
        "id": "yT03E8aIB7Ck",
        "outputId": "5b42dc0c-e84a-492a-a307-91cd0861c610"
      },
      "execution_count": 6,
      "outputs": [
        {
          "output_type": "stream",
          "name": "stdout",
          "text": [
            "odd\n"
          ]
        }
      ]
    },
    {
      "cell_type": "code",
      "source": [
        "#largest of two number\n",
        "\n",
        "a,b=15,20\n",
        "if a>b:\n",
        "  print(\"A is larger\")\n",
        "else:\n",
        "    print(\"B is larger\")"
      ],
      "metadata": {
        "colab": {
          "base_uri": "https://localhost:8080/"
        },
        "id": "ZomrIvq4C1k_",
        "outputId": "1a82a6c9-98c7-4027-e679-59348b8380e6"
      },
      "execution_count": 7,
      "outputs": [
        {
          "output_type": "stream",
          "name": "stdout",
          "text": [
            "B is larger\n"
          ]
        }
      ]
    },
    {
      "cell_type": "code",
      "source": [
        "#checking voting eligibility\n",
        "\n",
        "age=17\n",
        "if age>=18:\n",
        "  print(\"Eligible for voting\")\n",
        "else:\n",
        "  print(\"not eligibile for voting\")"
      ],
      "metadata": {
        "colab": {
          "base_uri": "https://localhost:8080/"
        },
        "id": "nkfeaG6vDii5",
        "outputId": "75b5ead0-b163-4d02-a198-986fc3faa9f2"
      },
      "execution_count": 8,
      "outputs": [
        {
          "output_type": "stream",
          "name": "stdout",
          "text": [
            "not eligibile for voting\n"
          ]
        }
      ]
    },
    {
      "cell_type": "code",
      "source": [
        "#largest three numbers (nested if)\n",
        "\n",
        "a,b,c=12,25,9\n",
        "if a>b:\n",
        "  if a>c:\n",
        "    print(\"A is largest\")\n",
        "  else:\n",
        "    print(\"C is largest\")\n",
        "else:\n",
        "  if b>c:\n",
        "    print(\"B is largest\")\n",
        "  else:\n",
        "    print(\"C is largest\")"
      ],
      "metadata": {
        "colab": {
          "base_uri": "https://localhost:8080/"
        },
        "id": "s73YGGmuD8YA",
        "outputId": "f8488b76-e5bf-47e7-8342-baccc8fd9a9e"
      },
      "execution_count": 13,
      "outputs": [
        {
          "output_type": "stream",
          "name": "stdout",
          "text": [
            "B is largest\n"
          ]
        }
      ]
    }
  ]
}