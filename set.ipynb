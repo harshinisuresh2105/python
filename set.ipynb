{
  "nbformat": 4,
  "nbformat_minor": 0,
  "metadata": {
    "colab": {
      "provenance": []
    },
    "kernelspec": {
      "name": "python3",
      "display_name": "Python 3"
    },
    "language_info": {
      "name": "python"
    }
  },
  "cells": [
    {
      "cell_type": "code",
      "execution_count": null,
      "metadata": {
        "colab": {
          "base_uri": "https://localhost:8080/"
        },
        "id": "VItrh__kfcpN",
        "outputId": "e7e317c3-96dd-4c24-946a-2d19bc21af06"
      },
      "outputs": [
        {
          "output_type": "stream",
          "name": "stdout",
          "text": [
            "{'Tamil', 'Maths', 'Science', 'English', 'Social'}\n"
          ]
        }
      ],
      "source": [
        "#Basic set\n",
        "\n",
        "subjects={\"Tamil\",\"English\",\"Maths\",\"Science\", \"Social\"}\n",
        "print(subjects)"
      ]
    },
    {
      "cell_type": "code",
      "source": [
        "#Removing the duplicates\n",
        "\n",
        "subjects={\"Tamil\",\"English\",\"Maths\",\"Science\", \"Social\",\"Tamil\",\"Maths\"}\n",
        "print(subjects)"
      ],
      "metadata": {
        "id": "yYO82phbUGfA",
        "colab": {
          "base_uri": "https://localhost:8080/"
        },
        "outputId": "d8183502-660e-4103-c1f3-0b676e595eb2"
      },
      "execution_count": null,
      "outputs": [
        {
          "output_type": "stream",
          "name": "stdout",
          "text": [
            "{'Tamil', 'Maths', 'Science', 'English', 'Social'}\n"
          ]
        }
      ]
    },
    {
      "cell_type": "code",
      "source": [
        "#Adding elements to the set\n",
        "\n",
        "subjects={\"Tamil\",\"English\",\"Maths\",\"Science\",\"Social\"}\n",
        "subjects.add(\"Hindi\")\n",
        "print(subjects)"
      ],
      "metadata": {
        "colab": {
          "base_uri": "https://localhost:8080/"
        },
        "id": "Y4Px5rsgUgUU",
        "outputId": "c14e88ec-38c6-4a8b-d438-8face6a77f26"
      },
      "execution_count": null,
      "outputs": [
        {
          "output_type": "stream",
          "name": "stdout",
          "text": [
            "{'Tamil', 'Hindi', 'Maths', 'Science', 'English', 'Social'}\n"
          ]
        }
      ]
    },
    {
      "cell_type": "code",
      "source": [
        "#Updating elements\n",
        "\n",
        "subjects={\"Tamil\",\"English\",\"Maths\",\"Science\",\"Social\"}\n",
        "subjects.update({\"Hindi\", \"French\"})\n",
        "print(subjects)"
      ],
      "metadata": {
        "colab": {
          "base_uri": "https://localhost:8080/"
        },
        "id": "OCLKFhoeWaLy",
        "outputId": "74712052-1970-4df7-b297-876275c63f8d"
      },
      "execution_count": null,
      "outputs": [
        {
          "output_type": "stream",
          "name": "stdout",
          "text": [
            "{'French', 'Tamil', 'Hindi', 'Maths', 'Science', 'English', 'Social'}\n"
          ]
        }
      ]
    },
    {
      "cell_type": "code",
      "source": [
        "#Removing elements from set\n",
        "\n",
        "subjects={'French','Tamil', 'Hindi', 'Maths', 'Science', 'English', 'Social'}\n",
        "subjects.remove(\"Hindi\")\n",
        "print(subjects)"
      ],
      "metadata": {
        "colab": {
          "base_uri": "https://localhost:8080/"
        },
        "id": "bnB40Pn1YDbG",
        "outputId": "3115db33-6d12-48a7-b3e4-a057a95803cc"
      },
      "execution_count": 17,
      "outputs": [
        {
          "output_type": "stream",
          "name": "stdout",
          "text": [
            "{'Tamil', 'Maths', 'Science', 'French', 'Social', 'English'}\n"
          ]
        }
      ]
    },
    {
      "cell_type": "code",
      "source": [
        "#Discard elements\n",
        "\n",
        "subjects={'Tamil', 'Maths', 'Science', 'French', 'Social', 'English'}\n",
        "subjects.discard(\"Hindi\")\n",
        "print(subjects)"
      ],
      "metadata": {
        "colab": {
          "base_uri": "https://localhost:8080/"
        },
        "id": "qIqwVtIjcru7",
        "outputId": "9c298a95-6adf-4e38-cb04-5a96d778dbde"
      },
      "execution_count": null,
      "outputs": [
        {
          "output_type": "stream",
          "name": "stdout",
          "text": [
            "{'Tamil', 'Maths', 'Science', 'French', 'Social', 'English'}\n"
          ]
        }
      ]
    },
    {
      "cell_type": "code",
      "source": [
        "#pop()\n",
        "\n",
        "subjects={'French','Tamil', 'Hindi', 'Maths', 'Science', 'English', 'Social'}\n",
        "subjects.pop()\n",
        "print(subjects)"
      ],
      "metadata": {
        "id": "1txMI1J5dKS0",
        "colab": {
          "base_uri": "https://localhost:8080/"
        },
        "outputId": "3e32f6c4-e752-45a8-f6cb-287e14ec217c"
      },
      "execution_count": 18,
      "outputs": [
        {
          "output_type": "stream",
          "name": "stdout",
          "text": [
            "{'Hindi', 'Maths', 'Science', 'French', 'Social', 'English'}\n"
          ]
        }
      ]
    },
    {
      "cell_type": "code",
      "source": [
        "subjects={'French','Tamil', 'Hindi', 'Maths', 'Science', 'English', 'Social'}\n",
        "subjects.clear()\n",
        "print(subjects)"
      ],
      "metadata": {
        "colab": {
          "base_uri": "https://localhost:8080/"
        },
        "id": "yxzkXkgie3hL",
        "outputId": "e94e5ffa-db72-4a97-b24a-2021d686f39b"
      },
      "execution_count": 19,
      "outputs": [
        {
          "output_type": "stream",
          "name": "stdout",
          "text": [
            "set()\n"
          ]
        }
      ]
    },
    {
      "cell_type": "code",
      "source": [
        "subjects={'French','Tamil', 'Hindi', 'Maths', 'Science', 'English', 'Social'}\n",
        "del subjects\n",
        "print(subjects)"
      ],
      "metadata": {
        "colab": {
          "base_uri": "https://localhost:8080/",
          "height": 176
        },
        "id": "j6pzY8ofe-PW",
        "outputId": "19c5232e-9956-4a47-a761-1986701fb219"
      },
      "execution_count": 22,
      "outputs": [
        {
          "output_type": "error",
          "ename": "NameError",
          "evalue": "name 'subjects' is not defined",
          "traceback": [
            "\u001b[0;31m---------------------------------------------------------------------------\u001b[0m",
            "\u001b[0;31mNameError\u001b[0m                                 Traceback (most recent call last)",
            "\u001b[0;32m/tmp/ipython-input-1441351315.py\u001b[0m in \u001b[0;36m<cell line: 0>\u001b[0;34m()\u001b[0m\n\u001b[1;32m      1\u001b[0m \u001b[0msubjects\u001b[0m\u001b[0;34m=\u001b[0m\u001b[0;34m{\u001b[0m\u001b[0;34m'French'\u001b[0m\u001b[0;34m,\u001b[0m\u001b[0;34m'Tamil'\u001b[0m\u001b[0;34m,\u001b[0m \u001b[0;34m'Hindi'\u001b[0m\u001b[0;34m,\u001b[0m \u001b[0;34m'Maths'\u001b[0m\u001b[0;34m,\u001b[0m \u001b[0;34m'Science'\u001b[0m\u001b[0;34m,\u001b[0m \u001b[0;34m'English'\u001b[0m\u001b[0;34m,\u001b[0m \u001b[0;34m'Social'\u001b[0m\u001b[0;34m}\u001b[0m\u001b[0;34m\u001b[0m\u001b[0;34m\u001b[0m\u001b[0m\n\u001b[1;32m      2\u001b[0m \u001b[0;32mdel\u001b[0m \u001b[0msubjects\u001b[0m\u001b[0;34m\u001b[0m\u001b[0;34m\u001b[0m\u001b[0m\n\u001b[0;32m----> 3\u001b[0;31m \u001b[0mprint\u001b[0m\u001b[0;34m(\u001b[0m\u001b[0msubjects\u001b[0m\u001b[0;34m)\u001b[0m\u001b[0;34m\u001b[0m\u001b[0;34m\u001b[0m\u001b[0m\n\u001b[0m",
            "\u001b[0;31mNameError\u001b[0m: name 'subjects' is not defined"
          ]
        }
      ]
    },
    {
      "cell_type": "code",
      "source": [
        "#Loopoing through sets\n",
        "\n",
        "subjects={'French','Tamil', 'Hindi', 'Maths', 'Science', 'English', 'Social'}\n",
        "for x in subjects:\n",
        "    print(x)"
      ],
      "metadata": {
        "colab": {
          "base_uri": "https://localhost:8080/"
        },
        "id": "kTWTLaDRfWOq",
        "outputId": "50e37549-31ce-4c07-d520-aef87d66624e"
      },
      "execution_count": 24,
      "outputs": [
        {
          "output_type": "stream",
          "name": "stdout",
          "text": [
            "Tamil\n",
            "Hindi\n",
            "Maths\n",
            "Science\n",
            "French\n",
            "Social\n",
            "English\n"
          ]
        }
      ]
    },
    {
      "cell_type": "code",
      "source": [
        "subjects={'French','Tamil', 'Hindi', 'Maths', 'Science', 'English', 'Social'}\n",
        "\n",
        "s1=subjects.copy()\n",
        "print(s1)"
      ],
      "metadata": {
        "colab": {
          "base_uri": "https://localhost:8080/"
        },
        "id": "As3yI9htfhoV",
        "outputId": "9404b091-f7fb-4795-f0b0-1f3327ab5df0"
      },
      "execution_count": 26,
      "outputs": [
        {
          "output_type": "stream",
          "name": "stdout",
          "text": [
            "{'Tamil', 'Hindi', 'Maths', 'Science', 'French', 'Social', 'English'}\n"
          ]
        }
      ]
    },
    {
      "cell_type": "code",
      "source": [
        "from pathlib import PureWindowsPath\n",
        "#Mathematical operations\n",
        "\n",
        "A={\"maths\",\"science\",\"social\"}\n",
        "B={\"tamil\",\"english\",\"french\"}\n",
        "\n",
        "#union\n",
        "print( A|B)\n",
        ""
      ],
      "metadata": {
        "colab": {
          "base_uri": "https://localhost:8080/"
        },
        "id": "NbIPK4r-gF7a",
        "outputId": "7f0984a6-4fc5-41d9-c70d-93c818d7a901"
      },
      "execution_count": 29,
      "outputs": [
        {
          "output_type": "stream",
          "name": "stdout",
          "text": [
            "{'english', 'social', 'french', 'maths', 'science', 'tamil'}\n"
          ]
        }
      ]
    },
    {
      "cell_type": "code",
      "source": [
        "#intersection\n",
        "A={\"maths\",\"science\",\"social\",\"french\"}\n",
        "B={\"tamil\",\"english\",\"french\",\"science\"}\n",
        "\n",
        "print(A & B)\n"
      ],
      "metadata": {
        "colab": {
          "base_uri": "https://localhost:8080/"
        },
        "id": "qOdwy47Uh8DN",
        "outputId": "7f55049b-0628-4a94-a17d-d2e63cfddb44"
      },
      "execution_count": 30,
      "outputs": [
        {
          "output_type": "stream",
          "name": "stdout",
          "text": [
            "{'science', 'french'}\n"
          ]
        }
      ]
    },
    {
      "cell_type": "code",
      "source": [
        "#differnece\n",
        "A={\"maths\",\"science\",\"social\",\"french\"}\n",
        "B={\"tamil\",\"english\",\"french\",\"science\"}\n",
        "\n",
        "print(A-B)\n",
        "\n"
      ],
      "metadata": {
        "colab": {
          "base_uri": "https://localhost:8080/"
        },
        "id": "Dsm-spr_iQLv",
        "outputId": "2f8204cc-0835-46fe-d5f7-e597889e0dad"
      },
      "execution_count": 31,
      "outputs": [
        {
          "output_type": "stream",
          "name": "stdout",
          "text": [
            "{'maths', 'social'}\n"
          ]
        }
      ]
    },
    {
      "cell_type": "code",
      "source": [
        "#symmetric differnece\n",
        "\n",
        "A={\"maths\",\"science\",\"social\",\"french\"}\n",
        "B={\"tamil\",\"english\",\"french\",\"science\"}\n",
        "\n",
        "print(A ^ B)"
      ],
      "metadata": {
        "colab": {
          "base_uri": "https://localhost:8080/"
        },
        "id": "-MNqPmIgi2-I",
        "outputId": "6646524e-97ba-4467-b057-96b7617caa37"
      },
      "execution_count": 32,
      "outputs": [
        {
          "output_type": "stream",
          "name": "stdout",
          "text": [
            "{'english', 'social', 'maths', 'tamil'}\n"
          ]
        }
      ]
    }
  ]
}